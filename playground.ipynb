{
 "cells": [
  {
   "cell_type": "code",
   "execution_count": 1,
   "metadata": {},
   "outputs": [
    {
     "name": "stdout",
     "output_type": "stream",
     "text": [
      "/Users/bapt/Desktop/ENSAE/3ème Année/Advanced Machine Learning/Multispeaker-Text-to-Speech-Synthesis/Encoder\n"
     ]
    }
   ],
   "source": [
    "import torch\n",
    "import glob\n",
    "import os\n",
    "import librosa\n",
    "import numpy as np\n",
    "import yaml\n",
    "\n",
    "%cd '/Users/bapt/Desktop/ENSAE/3ème Année/Advanced Machine Learning/Multispeaker-Text-to-Speech-Synthesis/Encoder'\n"
   ]
  },
  {
   "cell_type": "code",
   "execution_count": 2,
   "metadata": {},
   "outputs": [],
   "source": [
    "from inference import mel_spectogram, embed_utterance\n",
    "from params import hparams as hp"
   ]
  },
  {
   "cell_type": "code",
   "execution_count": 3,
   "metadata": {},
   "outputs": [],
   "source": [
    "wav, _ = librosa.core.load('/Users/bapt/Desktop/ENSAE/3ème Année/Advanced Machine Learning/Datasets/LibriSpeech/train-clean-360/14/208/14-208-0000.flac', sr=hp.data.sr)\n"
   ]
  },
  {
   "cell_type": "code",
   "execution_count": null,
   "metadata": {},
   "outputs": [
    {
     "name": "stdout",
     "output_type": "stream",
     "text": [
      "[[-0.03841022  0.20285664  0.11073892 ...  0.00700277  0.02315607\n",
      "  -0.08182686]\n",
      " [-0.0104514   0.2542961   0.08439635 ...  0.00391513 -0.06902587\n",
      "   0.00813077]\n",
      " [ 0.21987753  0.13985617 -0.04463597 ...  0.04617302  0.07968833\n",
      "  -0.0103533 ]\n",
      " ...\n",
      " [-0.05991403  0.20803301  0.02491788 ... -0.0250736   0.02799305\n",
      "  -0.10044141]\n",
      " [-0.02413934  0.19122484  0.0204121  ... -0.02295912 -0.03593497\n",
      "  -0.10642734]\n",
      " [-0.0225638   0.19127853  0.0203753  ... -0.02672474 -0.03291066\n",
      "  -0.10737799]]\n"
     ]
    },
    {
     "data": {
      "text/plain": [
       "array([ 0.05262654,  0.19906138,  0.0391832 ,  0.08214483, -0.05684955,\n",
       "       -0.09731566, -0.12608382, -0.2966048 ,  0.12545972, -0.08976949,\n",
       "        0.06519625, -0.09016809, -0.03113144, -0.09564792,  0.23137157,\n",
       "        0.00325522,  0.09415706, -0.16289496, -0.14615953,  0.03798858,\n",
       "        0.19622949,  0.22640416, -0.04919109,  0.01306619, -0.27196398,\n",
       "       -0.09426813,  0.0071433 ,  0.04279497,  0.08196791,  0.03182217,\n",
       "        0.22942536, -0.30890065, -0.10182954,  0.06919101,  0.15121229,\n",
       "        0.11575766, -0.11527751, -0.15657634, -0.1330518 , -0.25737533,\n",
       "       -0.01030102,  0.05916965,  0.17231353,  0.10707803, -0.0697902 ,\n",
       "       -0.16178499,  0.09531192, -0.05993306,  0.10990439,  0.01772212,\n",
       "        0.08574542,  0.02153924,  0.03822922, -0.11484211,  0.01897043,\n",
       "       -0.01592238, -0.03207839,  0.13102289, -0.00275142,  0.11333597,\n",
       "        0.07394492, -0.00419321,  0.03405266, -0.08367538], dtype=float32)"
      ]
     },
     "execution_count": 4,
     "metadata": {},
     "output_type": "execute_result"
    }
   ],
   "source": [
    "embed_utterance(wav).shape"
   ]
  },
  {
   "cell_type": "code",
   "execution_count": 31,
   "metadata": {},
   "outputs": [
    {
     "data": {
      "text/plain": [
       "(40, 1535)"
      ]
     },
     "execution_count": 31,
     "metadata": {},
     "output_type": "execute_result"
    }
   ],
   "source": [
    "mel.shape"
   ]
  },
  {
   "cell_type": "code",
   "execution_count": null,
   "metadata": {},
   "outputs": [],
   "source": []
  },
  {
   "cell_type": "code",
   "execution_count": null,
   "metadata": {},
   "outputs": [],
   "source": []
  }
 ],
 "metadata": {
  "kernelspec": {
   "display_name": "MSVoiceCloning",
   "language": "python",
   "name": "python3"
  },
  "language_info": {
   "codemirror_mode": {
    "name": "ipython",
    "version": 3
   },
   "file_extension": ".py",
   "mimetype": "text/x-python",
   "name": "python",
   "nbconvert_exporter": "python",
   "pygments_lexer": "ipython3",
   "version": "3.9.21"
  }
 },
 "nbformat": 4,
 "nbformat_minor": 2
}
