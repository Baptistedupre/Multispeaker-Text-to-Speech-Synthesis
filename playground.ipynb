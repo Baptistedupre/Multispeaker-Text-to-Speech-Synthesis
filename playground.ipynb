{
 "cells": [
  {
   "cell_type": "code",
   "execution_count": 110,
   "metadata": {},
   "outputs": [],
   "source": [
    "import torch\n",
    "import glob\n",
    "import os\n",
    "import librosa\n",
    "import numpy as np\n"
   ]
  },
  {
   "cell_type": "code",
   "execution_count": 4,
   "metadata": {},
   "outputs": [
    {
     "data": {
      "text/plain": [
       "torch.Size([64, 10])"
      ]
     },
     "execution_count": 4,
     "metadata": {},
     "output_type": "execute_result"
    }
   ],
   "source": [
    "embedding = torch.randn(64, 10, 256)\n",
    "embedding.shape[:2]"
   ]
  },
  {
   "cell_type": "code",
   "execution_count": 103,
   "metadata": {},
   "outputs": [],
   "source": [
    "class DotDict(dict):\n",
    "    \"\"\"\n",
    "    a dictionary that supports dot notation \n",
    "    as well as dictionary access notation \n",
    "    usage: d = DotDict() or d = DotDict({'val1':'first'})\n",
    "    set attributes: d.val2 = 'second' or d['val2'] = 'second'\n",
    "    get attributes: d.val2 or d['val2']\n",
    "    \"\"\"\n",
    "    __getattr__ = dict.__getitem__\n",
    "    __setattr__ = dict.__setitem__\n",
    "    __delattr__ = dict.__delitem__\n",
    "\n",
    "    def __init__(self, dct=None):\n",
    "        dct = dict() if not dct else dct\n",
    "        for key, value in dct.items():\n",
    "            if hasattr(value, 'keys'):\n",
    "                value = Dotdict(value)\n",
    "            self[key] = value\n",
    "\n",
    "def load_params():\n",
    "    with open('encoder/config/config.yaml', 'r') as f:\n",
    "        params = yaml.load_all(f, Loader=yaml.FullLoader)\n",
    "        dict_params = {}\n",
    "        for doc in params:\n",
    "            for k, v in doc.items():\n",
    "                dict_params[k] = v\n",
    "    return dict_params\n",
    "\n",
    "\n",
    "hp = DotDict(load_params())\n"
   ]
  },
  {
   "cell_type": "code",
   "execution_count": 55,
   "metadata": {},
   "outputs": [],
   "source": [
    "audio_path = glob.glob(os.path.dirname('/Users/bapt/Desktop/ENSAE/3ème Année/Advanced Machine Learning/LibriSpeech/train-clean-360/*/*'))                                      "
   ]
  },
  {
   "cell_type": "code",
   "execution_count": 67,
   "metadata": {},
   "outputs": [],
   "source": [
    "speaker = audio_path[0]\n",
    "chapters = os.listdir(speaker)\n",
    "utterances = os.listdir(os.path.join(speaker, chapters[0]))\n",
    "utterance = os.path.join(speaker, chapters[0], utterances[0])\n"
   ]
  },
  {
   "cell_type": "code",
   "execution_count": 84,
   "metadata": {},
   "outputs": [],
   "source": [
    "utter, sr = librosa.core.load(utterance, sr=16000)"
   ]
  },
  {
   "cell_type": "code",
   "execution_count": 128,
   "metadata": {},
   "outputs": [
    {
     "data": {
      "text/plain": [
       "array([[  2560,  24576],\n",
       "       [ 28160,  34304],\n",
       "       [ 34816,  50688],\n",
       "       [ 54272,  74752],\n",
       "       [ 81408, 105472],\n",
       "       [109568, 134144],\n",
       "       [134656, 141824],\n",
       "       [160768, 180736],\n",
       "       [190464, 192512],\n",
       "       [206336, 209408],\n",
       "       [209920, 210432],\n",
       "       [211968, 216064]])"
      ]
     },
     "execution_count": 128,
     "metadata": {},
     "output_type": "execute_result"
    }
   ],
   "source": [
    "for j in range(10) if j == 5:\n",
    "    print(j)"
   ]
  },
  {
   "cell_type": "markdown",
   "metadata": {},
   "source": []
  },
  {
   "cell_type": "code",
   "execution_count": 133,
   "metadata": {},
   "outputs": [],
   "source": [
    "utter_part = utter[interval[0]:interval[1]]\n",
    "S = librosa.feature.melspectrogram(y=utter_part, sr=sr, n_fft=hp.data.nfft, hop_length=int(hp.data.hop*hp.data.sr), n_mels=hp.data.nmels)\n",
    "S = librosa.power_to_db(S, ref=np.max)\n",
    "S = S.astype(np.float32).T"
   ]
  },
  {
   "cell_type": "code",
   "execution_count": 136,
   "metadata": {},
   "outputs": [],
   "source": [
    "S = librosa.core.stft(y=utter_part, n_fft=hp.data.nfft,\n",
    "                                              win_length=int(hp.data.window * sr), hop_length=int(hp.data.hop * sr))\n",
    "S = np.abs(S) ** 2\n",
    "mel_basis = librosa.filters.mel(sr=hp.data.sr, n_fft=hp.data.nfft, n_mels=hp.data.nmels)\n",
    "S = np.log10(np.dot(mel_basis, S) + 1e-6)"
   ]
  },
  {
   "cell_type": "code",
   "execution_count": 144,
   "metadata": {},
   "outputs": [
    {
     "data": {
      "text/plain": [
       "array([[-3.1404095 , -2.491884  , -1.9298481 , ..., -0.49076617,\n",
       "        -1.3435485 , -2.6188498 ],\n",
       "       [-2.325535  , -1.6984915 , -1.3745589 , ..., -0.5600696 ,\n",
       "        -1.6265929 , -2.3679945 ],\n",
       "       [-1.6866193 , -1.2038095 , -1.092519  , ..., -1.5648443 ,\n",
       "        -2.034195  , -2.8860192 ],\n",
       "       ...,\n",
       "       [-5.7239413 , -5.6711307 , -5.5101867 , ..., -5.704185  ,\n",
       "        -5.871908  , -5.818638  ],\n",
       "       [-5.815968  , -5.665121  , -5.254036  , ..., -5.5803275 ,\n",
       "        -5.8124013 , -5.8429875 ],\n",
       "       [-5.827293  , -5.701777  , -5.3962607 , ..., -5.7845097 ,\n",
       "        -5.9338746 , -5.895902  ]], dtype=float32)"
      ]
     },
     "execution_count": 144,
     "metadata": {},
     "output_type": "execute_result"
    }
   ],
   "source": [
    "S[:, :hp.data.tisv_frame]"
   ]
  },
  {
   "cell_type": "code",
   "execution_count": 147,
   "metadata": {},
   "outputs": [
    {
     "data": {
      "text/plain": [
       "29200.0"
      ]
     },
     "execution_count": 147,
     "metadata": {},
     "output_type": "execute_result"
    }
   ],
   "source": [
    "utter_min_len = (hp.data.tisv_frame * hp.data.hop + hp.data.window) * hp.data.sr\n",
    "utter_min_len"
   ]
  },
  {
   "cell_type": "code",
   "execution_count": null,
   "metadata": {},
   "outputs": [],
   "source": []
  }
 ],
 "metadata": {
  "kernelspec": {
   "display_name": "MSVoiceCloning",
   "language": "python",
   "name": "python3"
  },
  "language_info": {
   "codemirror_mode": {
    "name": "ipython",
    "version": 3
   },
   "file_extension": ".py",
   "mimetype": "text/x-python",
   "name": "python",
   "nbconvert_exporter": "python",
   "pygments_lexer": "ipython3",
   "version": "3.9.21"
  }
 },
 "nbformat": 4,
 "nbformat_minor": 2
}
