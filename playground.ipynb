{
 "cells": [
  {
   "cell_type": "code",
   "execution_count": 26,
   "metadata": {},
   "outputs": [
    {
     "name": "stdout",
     "output_type": "stream",
     "text": [
      "/Users/bapt/Desktop/ENSAE/3ème Année/Advanced Machine Learning/Multispeaker-Text-to-Speech-Synthesis\n"
     ]
    }
   ],
   "source": [
    "import torch\n",
    "import glob\n",
    "import os\n",
    "import librosa\n",
    "import numpy as np\n",
    "import yaml\n",
    "\n",
    "%cd '/Users/bapt/Desktop/ENSAE/3ème Année/Advanced Machine Learning/Multispeaker-Text-to-Speech-Synthesis'\n"
   ]
  },
  {
   "cell_type": "code",
   "execution_count": 2,
   "metadata": {},
   "outputs": [],
   "source": [
    "from Synthesizer.dataset import SynthesizerDataset"
   ]
  },
  {
   "cell_type": "code",
   "execution_count": 3,
   "metadata": {},
   "outputs": [],
   "source": [
    "wav, _ = librosa.load('/Users/bapt/Desktop/ENSAE/3ème Année/Advanced Machine Learning/Datasets/LibriSpeech/train-clean-360/14/208/14-208-0000.flac', sr=hp.data.sr)"
   ]
  },
  {
   "cell_type": "code",
   "execution_count": 5,
   "metadata": {},
   "outputs": [
    {
     "data": {
      "text/plain": [
       "array([ 0.05262657,  0.19906142,  0.03918314,  0.08214483, -0.05684957,\n",
       "       -0.09731566, -0.12608376, -0.29660478,  0.12545964, -0.08976944,\n",
       "        0.0651962 , -0.09016812, -0.03113141, -0.09564797,  0.23137152,\n",
       "        0.00325517,  0.09415711, -0.162895  , -0.14615956,  0.03798858,\n",
       "        0.19622955,  0.22640407, -0.04919107,  0.01306622, -0.27196404,\n",
       "       -0.09426808,  0.00714329,  0.04279493,  0.081968  ,  0.03182213,\n",
       "        0.22942533, -0.30890068, -0.10182963,  0.06919105,  0.15121236,\n",
       "        0.11575769, -0.11527746, -0.15657634, -0.13305184, -0.25737533,\n",
       "       -0.01030103,  0.05916962,  0.17231356,  0.10707799, -0.06979024,\n",
       "       -0.16178504,  0.09531188, -0.05993301,  0.10990441,  0.01772214,\n",
       "        0.08574553,  0.0215392 ,  0.03822918, -0.11484206,  0.01897045,\n",
       "       -0.01592245, -0.03207839,  0.13102292, -0.00275141,  0.11333606,\n",
       "        0.07394492, -0.00419321,  0.03405261, -0.08367541], dtype=float32)"
      ]
     },
     "execution_count": 5,
     "metadata": {},
     "output_type": "execute_result"
    }
   ],
   "source": [
    "embed_utterance(wav)"
   ]
  },
  {
   "cell_type": "code",
   "execution_count": 31,
   "metadata": {},
   "outputs": [
    {
     "data": {
      "text/plain": [
       "(40, 1535)"
      ]
     },
     "execution_count": 31,
     "metadata": {},
     "output_type": "execute_result"
    }
   ],
   "source": [
    "mel.shape"
   ]
  },
  {
   "cell_type": "code",
   "execution_count": 16,
   "metadata": {},
   "outputs": [],
   "source": [
    "file = np.load('/Users/bapt/Desktop/ENSAE/3ème Année/Advanced Machine Learning/Datasets/Synthesizer/speaker_embeddings.npy', allow_pickle=True).item()"
   ]
  },
  {
   "cell_type": "code",
   "execution_count": 12,
   "metadata": {},
   "outputs": [],
   "source": [
    "DATASET_PATH = '/Users/bapt/Desktop/ENSAE/3ème Année/Advanced Machine Learning/Datasets/LibriSpeech/train-clean-360' # noqa E501\n",
    "speaker_folders = [\n",
    "        os.path.join(DATASET_PATH, speaker)\n",
    "        for speaker in os.listdir(DATASET_PATH)\n",
    "        if os.path.isdir(os.path.join(DATASET_PATH, speaker))\n",
    "    ]"
   ]
  },
  {
   "cell_type": "code",
   "execution_count": 20,
   "metadata": {},
   "outputs": [],
   "source": [
    "data = np.load('/Users/bapt/Desktop/ENSAE/3ème Année/Advanced Machine Learning/Datasets/Synthesizer/train_data.npy', allow_pickle=True)"
   ]
  },
  {
   "cell_type": "code",
   "execution_count": 25,
   "metadata": {},
   "outputs": [
    {
     "data": {
      "text/plain": [
       "(40, 1608)"
      ]
     },
     "execution_count": 25,
     "metadata": {},
     "output_type": "execute_result"
    }
   ],
   "source": [
    "data[0]['mel_spectrogram'].shape"
   ]
  },
  {
   "cell_type": "code",
   "execution_count": null,
   "metadata": {},
   "outputs": [],
   "source": []
  }
 ],
 "metadata": {
  "kernelspec": {
   "display_name": "MSVoiceCloning",
   "language": "python",
   "name": "python3"
  },
  "language_info": {
   "codemirror_mode": {
    "name": "ipython",
    "version": 3
   },
   "file_extension": ".py",
   "mimetype": "text/x-python",
   "name": "python",
   "nbconvert_exporter": "python",
   "pygments_lexer": "ipython3",
   "version": "3.9.21"
  }
 },
 "nbformat": 4,
 "nbformat_minor": 2
}
