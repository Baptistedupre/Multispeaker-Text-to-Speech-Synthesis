{
 "cells": [
  {
   "cell_type": "code",
   "execution_count": 1,
   "metadata": {},
   "outputs": [
    {
     "name": "stdout",
     "output_type": "stream",
     "text": [
      "/Users/bapt/Desktop/ENSAE/3ème Année/Advanced Machine Learning/Multispeaker-Text-to-Speech-Synthesis/Synthesizer\n"
     ]
    }
   ],
   "source": [
    "import torch\n",
    "import glob\n",
    "import os\n",
    "import librosa\n",
    "import numpy as np\n",
    "import yaml\n",
    "\n",
    "%cd '/Users/bapt/Desktop/ENSAE/3ème Année/Advanced Machine Learning/Multispeaker-Text-to-Speech-Synthesis/Synthesizer'\n"
   ]
  },
  {
   "cell_type": "code",
   "execution_count": 2,
   "metadata": {},
   "outputs": [],
   "source": [
    "from model.models import TransformerTTS"
   ]
  },
  {
   "cell_type": "code",
   "execution_count": 3,
   "metadata": {},
   "outputs": [],
   "source": [
    "model = TransformerTTS()"
   ]
  },
  {
   "cell_type": "code",
   "execution_count": 4,
   "metadata": {},
   "outputs": [
    {
     "data": {
      "text/plain": [
       "TransformerTTS(\n",
       "  (encoder): Encoder(\n",
       "    (encoder_prenet): EncoderPreNet(\n",
       "      (embedding): Embedding(149, 512, padding_idx=0)\n",
       "      (convolutions): ModuleList(\n",
       "        (0-2): 3 x Conv(\n",
       "          (conv_layer): Conv1d(512, 512, kernel_size=(5,), stride=(1,), padding=(2,))\n",
       "        )\n",
       "      )\n",
       "      (batch_norm): BatchNorm1d(512, eps=1e-05, momentum=0.1, affine=True, track_running_stats=True)\n",
       "      (relu): ReLU()\n",
       "      (dropout): Dropout(p=0.2, inplace=False)\n",
       "      (projection): Linear(\n",
       "        (linear_layer): Linear(in_features=512, out_features=512, bias=True)\n",
       "      )\n",
       "    )\n",
       "    (positional_encoding): PositionalEncoding()\n",
       "    (multihead_attention): MultiHeadAttention(\n",
       "      (query_layer): Linear(\n",
       "        (linear_layer): Linear(in_features=256, out_features=1728, bias=True)\n",
       "      )\n",
       "      (key_layer): Linear(\n",
       "        (linear_layer): Linear(in_features=256, out_features=1728, bias=True)\n",
       "      )\n",
       "      (value_layer): Linear(\n",
       "        (linear_layer): Linear(in_features=256, out_features=1728, bias=True)\n",
       "      )\n",
       "      (projection): Linear(\n",
       "        (linear_layer): Linear(in_features=1728, out_features=256, bias=True)\n",
       "      )\n",
       "      (attention): Attention(\n",
       "        (dropout): Dropout(p=0.1, inplace=False)\n",
       "      )\n",
       "      (dropout): Dropout(p=0.1, inplace=False)\n",
       "      (layer_norm): LayerNorm((256,), eps=1e-05, elementwise_affine=True)\n",
       "    )\n",
       "    (feed_forward): FeedForwardNetwork(\n",
       "      (fc1): Linear(\n",
       "        (linear_layer): Linear(in_features=256, out_features=2048, bias=True)\n",
       "      )\n",
       "      (fc2): Linear(\n",
       "        (linear_layer): Linear(in_features=2048, out_features=256, bias=True)\n",
       "      )\n",
       "      (dropout): Dropout(p=0.1, inplace=False)\n",
       "      (layer_norm): LayerNorm((256,), eps=1e-05, elementwise_affine=True)\n",
       "    )\n",
       "    (pos_dropout): Dropout(p=0.1, inplace=False)\n",
       "  )\n",
       "  (decoder): Decoder(\n",
       "    (decoder_prenet): DecoderPreNet(\n",
       "      (fc1): Linear(in_features=80, out_features=256, bias=True)\n",
       "      (fc2): Linear(in_features=256, out_features=256, bias=True)\n",
       "      (dropout): Dropout(p=0.5, inplace=False)\n",
       "      (relu): ReLU()\n",
       "      (linear): Linear(in_features=256, out_features=256, bias=True)\n",
       "    )\n",
       "    (positional_encoding): PositionalEncoding()\n",
       "    (pos_dropout): Dropout(p=0.1, inplace=False)\n",
       "    (masked_multihead_attention): MultiHeadAttention(\n",
       "      (query_layer): Linear(\n",
       "        (linear_layer): Linear(in_features=256, out_features=240, bias=True)\n",
       "      )\n",
       "      (key_layer): Linear(\n",
       "        (linear_layer): Linear(in_features=256, out_features=240, bias=True)\n",
       "      )\n",
       "      (value_layer): Linear(\n",
       "        (linear_layer): Linear(in_features=256, out_features=240, bias=True)\n",
       "      )\n",
       "      (projection): Linear(\n",
       "        (linear_layer): Linear(in_features=240, out_features=256, bias=True)\n",
       "      )\n",
       "      (attention): Attention(\n",
       "        (dropout): Dropout(p=0.1, inplace=False)\n",
       "      )\n",
       "      (dropout): Dropout(p=0.1, inplace=False)\n",
       "      (layer_norm): LayerNorm((256,), eps=1e-05, elementwise_affine=True)\n",
       "    )\n",
       "    (multihead_attention): MultiHeadAttention(\n",
       "      (query_layer): Linear(\n",
       "        (linear_layer): Linear(in_features=256, out_features=240, bias=True)\n",
       "      )\n",
       "      (key_layer): Linear(\n",
       "        (linear_layer): Linear(in_features=256, out_features=240, bias=True)\n",
       "      )\n",
       "      (value_layer): Linear(\n",
       "        (linear_layer): Linear(in_features=256, out_features=240, bias=True)\n",
       "      )\n",
       "      (projection): Linear(\n",
       "        (linear_layer): Linear(in_features=240, out_features=256, bias=True)\n",
       "      )\n",
       "      (attention): Attention(\n",
       "        (dropout): Dropout(p=0.1, inplace=False)\n",
       "      )\n",
       "      (dropout): Dropout(p=0.1, inplace=False)\n",
       "      (layer_norm): LayerNorm((256,), eps=1e-05, elementwise_affine=True)\n",
       "    )\n",
       "    (feed_forward): FeedForwardNetwork(\n",
       "      (fc1): Linear(\n",
       "        (linear_layer): Linear(in_features=256, out_features=2048, bias=True)\n",
       "      )\n",
       "      (fc2): Linear(\n",
       "        (linear_layer): Linear(in_features=2048, out_features=256, bias=True)\n",
       "      )\n",
       "      (dropout): Dropout(p=0.1, inplace=False)\n",
       "      (layer_norm): LayerNorm((256,), eps=1e-05, elementwise_affine=True)\n",
       "    )\n",
       "    (mel_linear): Linear(\n",
       "      (linear_layer): Linear(in_features=256, out_features=80, bias=True)\n",
       "    )\n",
       "    (gate_linear): Linear(\n",
       "      (linear_layer): Linear(in_features=256, out_features=1, bias=True)\n",
       "    )\n",
       "    (postnet): PostNet(\n",
       "      (convolutions): ModuleList(\n",
       "        (0): Conv(\n",
       "          (conv_layer): Conv1d(80, 256, kernel_size=(5,), stride=(1,), padding=(4,))\n",
       "        )\n",
       "        (1-3): 3 x Conv(\n",
       "          (conv_layer): Conv1d(256, 256, kernel_size=(5,), stride=(1,), padding=(4,))\n",
       "        )\n",
       "        (4): Conv(\n",
       "          (conv_layer): Conv1d(256, 80, kernel_size=(5,), stride=(1,), padding=(4,))\n",
       "        )\n",
       "      )\n",
       "      (batch_norm): BatchNorm1d(256, eps=1e-05, momentum=0.1, affine=True, track_running_stats=True)\n",
       "      (dropout): Dropout(p=0.5, inplace=False)\n",
       "    )\n",
       "  )\n",
       ")"
      ]
     },
     "execution_count": 4,
     "metadata": {},
     "output_type": "execute_result"
    }
   ],
   "source": [
    "model"
   ]
  },
  {
   "cell_type": "code",
   "execution_count": null,
   "metadata": {},
   "outputs": [],
   "source": []
  }
 ],
 "metadata": {
  "kernelspec": {
   "display_name": "MSVoiceCloning",
   "language": "python",
   "name": "python3"
  },
  "language_info": {
   "codemirror_mode": {
    "name": "ipython",
    "version": 3
   },
   "file_extension": ".py",
   "mimetype": "text/x-python",
   "name": "python",
   "nbconvert_exporter": "python",
   "pygments_lexer": "ipython3",
   "version": "3.9.21"
  }
 },
 "nbformat": 4,
 "nbformat_minor": 2
}
